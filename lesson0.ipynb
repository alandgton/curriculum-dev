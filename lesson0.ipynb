{
 "cells": [
  {
   "cell_type": "markdown",
   "metadata": {},
   "source": [
    " # Lesson 0\n",
    "\n",
    "Programming is how we (as humans) control devices like smartphones, tablets, laptops, and computers. When given instructions written in a programming language, these devices will read them like a book and follow them like a recipe.\n",
    "\n",
    "\n",
    "# Variables\n",
    "\n",
    "The programming language that we will first learn is called Python. Learning how to program requires some background in math, so I'm assuming that you know algebra for this assignment.\n",
    "\n",
    "Run the code block below by pressing it with your mouse and typing [Shift]+[Enter]"
   ]
  },
  {
   "cell_type": "code",
   "execution_count": 32,
   "metadata": {},
   "outputs": [],
   "source": [
    "# Addition\n",
    "x = 3 + 4"
   ]
  },
  {
   "cell_type": "markdown",
   "metadata": {},
   "source": [
    "The variable x is set equal to the result of 3 + 4, which is 7. The `# Addition` line is a \"comment\". In Python, when you type `#`, everything after it is visible only by the programmer and not the computer. We use comments to write notes to ourselves and other programmers.\n",
    "\n",
    "## Output\n",
    "\n",
    "To output the value of the variable `x`, use the `print()` function. Place the value that you want to print within the parenthesis of the `print()` command."
   ]
  },
  {
   "cell_type": "code",
   "execution_count": 33,
   "metadata": {},
   "outputs": [
    {
     "name": "stdout",
     "output_type": "stream",
     "text": [
      "7\n"
     ]
    }
   ],
   "source": [
    "print(x)"
   ]
  },
  {
   "cell_type": "markdown",
   "metadata": {},
   "source": [
    "As you would expect, the value of `x` is 7. Whenever you want to see the value of a variable, or if you want to display a message, use the `print()` function.\n",
    "\n",
    "## Operations\n",
    "\n",
    "You can do anything that you can do on a calculator with a programming language. We've seen how addition works in the steps above, but what about subtraction, multiplication, division, and exponents?"
   ]
  },
  {
   "cell_type": "code",
   "execution_count": 34,
   "metadata": {},
   "outputs": [
    {
     "name": "stdout",
     "output_type": "stream",
     "text": [
      "2\n"
     ]
    }
   ],
   "source": [
    "# Subtraction\n",
    "a = 5 - 3\n",
    "print(a)"
   ]
  },
  {
   "cell_type": "code",
   "execution_count": 35,
   "metadata": {},
   "outputs": [
    {
     "name": "stdout",
     "output_type": "stream",
     "text": [
      "15\n"
     ]
    }
   ],
   "source": [
    "# Multiplication\n",
    "b = 5 * 3\n",
    "print(b)"
   ]
  },
  {
   "cell_type": "code",
   "execution_count": 36,
   "metadata": {},
   "outputs": [
    {
     "name": "stdout",
     "output_type": "stream",
     "text": [
      "3.0\n"
     ]
    }
   ],
   "source": [
    "# Division\n",
    "c = 6 / 2\n",
    "print(c)"
   ]
  },
  {
   "cell_type": "code",
   "execution_count": 37,
   "metadata": {},
   "outputs": [
    {
     "name": "stdout",
     "output_type": "stream",
     "text": [
      "16\n"
     ]
    }
   ],
   "source": [
    "# Exponent (2^4 = 2*2*2*2 = 16)\n",
    "d = 2 ** 4\n",
    "print(d)"
   ]
  },
  {
   "cell_type": "markdown",
   "metadata": {},
   "source": [
    "## Variable Names\n",
    "\n",
    "Our variable names have been boring so far (x, a, b, c, d). You can name your variables to be anything you'd like as long as it (1) starts with a letter and (2) there is no \"whitespace\" within it. \n",
    "\n",
    "Whitespace are characters that come from pressing [Space], [Tab], and [Return]."
   ]
  },
  {
   "cell_type": "code",
   "execution_count": 38,
   "metadata": {},
   "outputs": [
    {
     "name": "stdout",
     "output_type": "stream",
     "text": [
      "110\n"
     ]
    }
   ],
   "source": [
    "# Interesting variable name\n",
    "coffee = 50\n",
    "\n",
    "# Since there cannot be spaces within the name of a variable,\n",
    "# programmers use the underscore '_' instead. This is called snake_case.\n",
    "almond_milk = 33\n",
    "\n",
    "# Another method is called camelCase. Instead of using spaces to\n",
    "# separate words, it capitalizes the first letter of each new word\n",
    "# except for the first.\n",
    "chocolatePowder = 27\n",
    "\n",
    "# What is the value of the `drink` variable when we add `coffee`, `almond_milk`, and `chocolatePowder`?\n",
    "drink = coffee + almond_milk + chocolatePowder\n",
    "print(drink)"
   ]
  },
  {
   "cell_type": "markdown",
   "metadata": {},
   "source": [
    "## Strings\n",
    "\n",
    "So far, we've seen the variables can take numerical values. Variables can also be \"strings of text\". In Python, a \"string\" is defined by any sequence of characters within double-quotes `\" \"`.\n",
    "\n",
    "You can \"concatenate\" (combine) strings together with the `+` operator. Using subtraction, multiplication, and division does not work on strings. "
   ]
  },
  {
   "cell_type": "code",
   "execution_count": 54,
   "metadata": {},
   "outputs": [
    {
     "name": "stdout",
     "output_type": "stream",
     "text": [
      "I don't have coronavirus.\n",
      "Hopefully, I don't have coronavirus.\n",
      "I own 1500 cows\n",
      "I also have 9000 pigs and 4000000 chickens\n"
     ]
    }
   ],
   "source": [
    "the_best_sentence = \"I don't have coronavirus.\"\n",
    "print(the_best_sentence)\n",
    "\n",
    "another_sentence = \"Hopefully, \"\n",
    "print(another_sentence + the_best_sentence)\n",
    "\n",
    "# To combine strings with numbers, use the following syntax:\n",
    "print(\"I own %d cows\" % (1500))\n",
    "\n",
    "num_pigs = 9000\n",
    "num_chickens = 4000000\n",
    "print(\"I also have %d pigs and %d chickens\" % (num_pigs, num_chickens))"
   ]
  },
  {
   "cell_type": "markdown",
   "metadata": {},
   "source": [
    "## Dumb Calculator\n",
    "\n",
    "With what we have so far, we can begin writing our first exercise. Let's create a dumb calculator that only knows how to add two values together. Let's use the `input()` command to receive user input. Once the user has specified 2 numbers, we will add them together then `print()` out the result."
   ]
  },
  {
   "cell_type": "code",
   "execution_count": 67,
   "metadata": {},
   "outputs": [
    {
     "name": "stdout",
     "output_type": "stream",
     "text": [
      "Hello, I am dumb calculator.\n",
      "Give me a number: \n",
      "Give me another number: \n",
      "Calculating...\n",
      "\n"
     ]
    }
   ],
   "source": [
    "print(\"Hello, I am dumb calculator.\")\n",
    "\n",
    "number1 = input(\"Give me a number: \")\n",
    "number2 = input(\"Give me another number: \")\n",
    "\n",
    "#print(type(number1))\n",
    "#print(type(number2))\n",
    "\n",
    "print(\"Calculating...\")\n",
    "print(number1 + number2)"
   ]
  },
  {
   "cell_type": "markdown",
   "metadata": {},
   "source": [
    "A few things to think about:\n",
    "\n",
    "1. Why does the \"type\" of number1 and number 2 matter?\n",
    "2. How can we change dumb calculator to subtract instead of add?\n",
    "3. By extension, how would you multiply and divide?\n",
    "\n",
    "It would be useful if the user could specify which operation they want to perform (add, subtract, multiply, or divide). Then, based on their input, we could execute the chosen operation on the specified numbers.\n",
    "\n",
    "In this case, we would have to execute different chunks of code based on whatever the user told us to do."
   ]
  },
  {
   "cell_type": "markdown",
   "metadata": {},
   "source": [
    "## Booleans\n",
    "\n",
    "Variables can also be equal to True or False. These values are called booleans."
   ]
  },
  {
   "cell_type": "code",
   "execution_count": 64,
   "metadata": {},
   "outputs": [
    {
     "name": "stdout",
     "output_type": "stream",
     "text": [
      "False\n",
      "True\n"
     ]
    }
   ],
   "source": [
    "isSleeping = False\n",
    "print(isSleeping)\n",
    "\n",
    "isAwake = 1 < 3\n",
    "print(isAwake)"
   ]
  },
  {
   "cell_type": "markdown",
   "metadata": {},
   "source": [
    "## If-Else Statements\n",
    "\n",
    "Booleans are useful because we can now execute certain code based on whether a condition is True of False. One of the ways we do this is with an if-else statement."
   ]
  },
  {
   "cell_type": "code",
   "execution_count": 66,
   "metadata": {},
   "outputs": [
    {
     "name": "stdout",
     "output_type": "stream",
     "text": [
      "Moooooooooo...\n"
     ]
    }
   ],
   "source": [
    "num_cows = 45\n",
    "\n",
    "if num_cows <= 45:\n",
    "    print(\"Moooooooooo...\")\n",
    "else:\n",
    "    print(\"Bark\")"
   ]
  },
  {
   "cell_type": "markdown",
   "metadata": {},
   "source": [
    "You could also use the \"elif\" statement to create if-elif-else statements, like so:"
   ]
  },
  {
   "cell_type": "code",
   "execution_count": 65,
   "metadata": {},
   "outputs": [
    {
     "name": "stdout",
     "output_type": "stream",
     "text": [
      "Hahahahahaha\n"
     ]
    }
   ],
   "source": [
    "num_rabbits = 93\n",
    "\n",
    "if num_rabbits < 10:\n",
    "    print(\"You have less than 10 rabbits.\")\n",
    "elif num_rabbits < 20:\n",
    "    print(\"You have many rabbits.\")\n",
    "elif num_rabbits < 40:\n",
    "    print(\"Why do you have so many rabbits?\")\n",
    "elif num_rabbits > 50:\n",
    "    print(\"Hahahahahaha\")\n",
    "else:\n",
    "    print(\"This is the else-statement.\")"
   ]
  },
  {
   "cell_type": "markdown",
   "metadata": {},
   "source": [
    "## Smart Calculator\n",
    "\n",
    "Let's use if-elif-else statements to make dumb calculator smarter. Based on the operation the user selects, smart calculator will output the result of using that operation on 2 numbers that the user specifies."
   ]
  },
  {
   "cell_type": "code",
   "execution_count": 68,
   "metadata": {},
   "outputs": [
    {
     "name": "stdout",
     "output_type": "stream",
     "text": [
      "Select operation.\n",
      "1. Add\n",
      "2. Subtract\n",
      "3. Multiply\n",
      "4. Divide\n",
      "5. Exponent\n",
      "Enter choice (1/2/3/4/5): 3\n",
      "Enter first number: 2\n",
      "Enter second number: 1\n",
      "2 * 1 = 2\n"
     ]
    }
   ],
   "source": [
    "# Program make a simple calculator\n",
    "\n",
    "print(\"Select operation.\")\n",
    "print(\"1. Add\")\n",
    "print(\"2. Subtract\")\n",
    "print(\"3. Multiply\")\n",
    "print(\"4. Divide\")\n",
    "print(\"5. Exponent\")\n",
    "\n",
    "# Take input from the user \n",
    "choice = input(\"Enter choice (1/2/3/4/5): \")\n",
    "    \n",
    "num1 = int(input(\"Enter first number: \"))\n",
    "num2 = int(input(\"Enter second number: \"))\n",
    "\n",
    "if choice == '1':\n",
    "    print(num1, \"+\", num2, \"=\", num1 + num2)\n",
    "\n",
    "elif choice == '2':\n",
    "    print(num1, \"-\", num2, \"=\", num1 - num2)\n",
    "\n",
    "elif choice == '3':\n",
    "    print(num1, \"*\", num2, \"=\", num1 * num2)\n",
    "\n",
    "elif choice == '4':\n",
    "    print(num1, \"/\", num2, \"=\", num1 / num2)\n",
    "    \n",
    "elif choice == '5':\n",
    "    print(num1, \"^\", num2, \"=\", num1 ** num2)\n",
    "    \n",
    "else:\n",
    "    print(\"Invalid input\")\n",
    "\n"
   ]
  },
  {
   "cell_type": "code",
   "execution_count": null,
   "metadata": {},
   "outputs": [],
   "source": []
  }
 ],
 "metadata": {
  "kernelspec": {
   "display_name": "Python 3",
   "language": "python",
   "name": "python3"
  },
  "language_info": {
   "codemirror_mode": {
    "name": "ipython",
    "version": 3
   },
   "file_extension": ".py",
   "mimetype": "text/x-python",
   "name": "python",
   "nbconvert_exporter": "python",
   "pygments_lexer": "ipython3",
   "version": "3.7.5"
  }
 },
 "nbformat": 4,
 "nbformat_minor": 2
}
