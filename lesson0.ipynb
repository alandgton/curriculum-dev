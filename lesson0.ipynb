{
 "cells": [
  {
   "cell_type": "markdown",
   "metadata": {},
   "source": [
    " # Lesson 0\n",
    "\n",
    "## Programming 101\n",
    "\n",
    "Programming is how we (as humans) control devices like smartphones, tablets, laptops, and computers. When given instructions written in a programming language, these devices will read them like a book and follow them like a recipe.\n",
    "\n",
    "TODO: assignment on the power of compound interest.\n",
    "\n",
    "\n",
    "### Variables\n",
    "\n",
    "The programming language that we will first learn is called Python. Learning how to program requires some background in math, so I'm assuming that you know algebra for this assignment.\n",
    "\n",
    "Run the code block below by pressing it with your mouse and typing [Shift]+[Enter]"
   ]
  },
  {
   "cell_type": "code",
   "execution_count": 21,
   "metadata": {},
   "outputs": [],
   "source": [
    "x = 3 + 4"
   ]
  },
  {
   "cell_type": "markdown",
   "metadata": {},
   "source": [
    "As you expect, 3 + 4 = 7 and the variable x is set equal to 7."
   ]
  },
  {
   "cell_type": "code",
   "execution_count": 9,
   "metadata": {},
   "outputs": [
    {
     "name": "stdout",
     "output_type": "stream",
     "text": [
      "Select operation.\n",
      "1. Add\n",
      "2. Subtract\n",
      "3. Multiply\n",
      "4. Divide\n",
      "5. Exponent \n",
      "Enter choice (1/2/3/4/5): 2\n",
      "Enter first number: 3\n",
      "Enter second number: 4\n",
      "3.0 - 4.0 = -1.0\n"
     ]
    }
   ],
   "source": [
    "# Program make a simple calculator\n",
    "\n",
    "print(\"Select operation.\")\n",
    "print(\"1. Add\")\n",
    "print(\"2. Subtract\")\n",
    "print(\"3. Multiply\")\n",
    "print(\"4. Divide\")\n",
    "print(\"5. Exponent\")\n",
    "\n",
    "# Take input from the user \n",
    "choice = input(\"Enter choice (1/2/3/4/5): \")\n",
    "    \n",
    "num1 = float(input(\"Enter first number: \"))\n",
    "num2 = float(input(\"Enter second number: \"))\n",
    "\n",
    "if choice == '1':\n",
    "    print(num1, \"+\", num2, \"=\", num1 + num2)\n",
    "\n",
    "elif choice == '2':\n",
    "    print(num1, \"-\", num2, \"=\", num1 - num2)\n",
    "\n",
    "elif choice == '3':\n",
    "    print(num1, \"*\", num2, \"=\", num1 * num2)\n",
    "\n",
    "elif choice == '4':\n",
    "    print(num1, \"/\", num2, \"=\", num1 / num2)\n",
    "    \n",
    "elif choice == '5':\n",
    "    print(num1, \"^\", num2, \"=\", num1 ** num2)\n",
    "    \n",
    "else:\n",
    "    print(\"Invalid input\")"
   ]
  },
  {
   "cell_type": "code",
   "execution_count": null,
   "metadata": {},
   "outputs": [],
   "source": []
  },
  {
   "cell_type": "code",
   "execution_count": null,
   "metadata": {},
   "outputs": [],
   "source": []
  }
 ],
 "metadata": {
  "kernelspec": {
   "display_name": "Python 3",
   "language": "python",
   "name": "python3"
  },
  "language_info": {
   "codemirror_mode": {
    "name": "ipython",
    "version": 3
   },
   "file_extension": ".py",
   "mimetype": "text/x-python",
   "name": "python",
   "nbconvert_exporter": "python",
   "pygments_lexer": "ipython3",
   "version": "3.7.5"
  }
 },
 "nbformat": 4,
 "nbformat_minor": 2
}
